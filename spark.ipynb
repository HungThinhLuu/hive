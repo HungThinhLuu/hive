{
 "cells": [
  {
   "cell_type": "code",
   "execution_count": 1,
   "metadata": {},
   "outputs": [
    {
     "name": "stderr",
     "output_type": "stream",
     "text": [
      "Warning: Ignoring non-Spark config property: hive.metastore.uris\n",
      "24/04/04 01:56:19 WARN Utils: Your hostname, Friday resolves to a loopback address: 127.0.1.1; using 192.168.2.231 instead (on interface wlo1)\n",
      "24/04/04 01:56:19 WARN Utils: Set SPARK_LOCAL_IP if you need to bind to another address\n"
     ]
    },
    {
     "name": "stdout",
     "output_type": "stream",
     "text": [
      ":: loading settings :: url = jar:file:/opt/spark/jars/ivy-2.5.1.jar!/org/apache/ivy/core/settings/ivysettings.xml\n"
     ]
    },
    {
     "name": "stderr",
     "output_type": "stream",
     "text": [
      "Ivy Default Cache set to: /home/hungthinhluu/.ivy2/cache\n",
      "The jars for the packages stored in: /home/hungthinhluu/.ivy2/jars\n",
      "mysql#mysql-connector-java added as a dependency\n",
      "org.apache.spark#spark-hive_2.12 added as a dependency\n",
      ":: resolving dependencies :: org.apache.spark#spark-submit-parent-f6721567-762c-4a41-9e70-8195fea012c9;1.0\n",
      "\tconfs: [default]\n",
      "\tfound mysql#mysql-connector-java;8.0.13 in central\n",
      "\tfound com.google.protobuf#protobuf-java;3.6.1 in central\n",
      "\tfound org.apache.spark#spark-hive_2.12;3.2.1 in central\n",
      "\tfound org.apache.hive#hive-common;2.3.9 in central\n",
      "\tfound commons-cli#commons-cli;1.2 in local-m2-cache\n",
      "\tfound commons-lang#commons-lang;2.6 in central\n",
      "\tfound org.apache.commons#commons-lang3;3.12.0 in local-m2-cache\n",
      "\tfound jline#jline;2.14.6 in central\n",
      "\tfound joda-time#joda-time;2.10.10 in central\n",
      "\tfound org.apache.commons#commons-compress;1.21 in central\n",
      "\tfound com.tdunning#json;1.8 in central\n",
      "\tfound io.dropwizard.metrics#metrics-core;4.2.0 in central\n",
      "\tfound io.dropwizard.metrics#metrics-jvm;4.2.0 in central\n",
      "\tfound io.dropwizard.metrics#metrics-json;4.2.0 in central\n",
      "\tfound com.fasterxml.jackson.core#jackson-databind;2.12.3 in central\n",
      "\tfound com.fasterxml.jackson.core#jackson-annotations;2.12.3 in central\n",
      "\tfound com.fasterxml.jackson.core#jackson-core;2.12.3 in central\n",
      "\tfound com.github.joshelser#dropwizard-metrics-hadoop-metrics2-reporter;0.1.2 in central\n",
      "\tfound org.apache.hive#hive-exec;2.3.9 in central\n",
      "\tfound org.apache.hive#hive-vector-code-gen;2.3.9 in central\n",
      "\tfound com.google.guava#guava;14.0.1 in central\n",
      "\tfound org.apache.velocity#velocity;1.5 in central\n",
      "\tfound oro#oro;2.0.8 in central\n",
      "\tfound commons-io#commons-io;2.8.0 in central\n",
      "\tfound org.antlr#antlr-runtime;3.5.2 in central\n",
      "\tfound org.antlr#ST4;4.0.4 in central\n",
      "\tfound org.apache.ivy#ivy;2.5.0 in central\n",
      "\tfound org.datanucleus#datanucleus-core;4.1.17 in central\n",
      "\tfound com.google.code.gson#gson;2.2.4 in central\n",
      "\tfound stax#stax-api;1.0.1 in central\n",
      "\tfound org.apache.hive#hive-metastore;2.3.9 in central\n",
      "\tfound javolution#javolution;5.5.1 in central\n",
      "\tfound com.jolbox#bonecp;0.8.0.RELEASE in central\n",
      "\tfound com.zaxxer#HikariCP;2.5.1 in central\n",
      "\tfound org.apache.derby#derby;10.14.2.0 in central\n",
      "\tfound org.datanucleus#datanucleus-api-jdo;4.2.4 in central\n",
      "\tfound org.datanucleus#datanucleus-rdbms;4.1.19 in central\n",
      "\tfound commons-pool#commons-pool;1.5.4 in local-m2-cache\n",
      "\tfound commons-dbcp#commons-dbcp;1.4 in local-m2-cache\n",
      "\tfound javax.jdo#jdo-api;3.0.1 in central\n",
      "\tfound javax.transaction#jta;1.1 in central\n",
      "\tfound org.datanucleus#javax.jdo;3.2.0-m3 in central\n",
      "\tfound javax.transaction#transaction-api;1.1 in central\n",
      "\tfound org.apache.hive#hive-serde;2.3.9 in central\n",
      "\tfound net.sf.opencsv#opencsv;2.3 in central\n",
      "\tfound org.apache.hive#hive-shims;2.3.9 in central\n",
      "\tfound org.apache.hive.shims#hive-shims-common;2.3.9 in central\n",
      "\tfound org.apache.hive.shims#hive-shims-0.23;2.3.9 in central\n",
      "\tfound org.apache.hive.shims#hive-shims-scheduler;2.3.9 in central\n",
      "\tfound org.apache.hive#hive-llap-common;2.3.9 in central\n",
      "\tfound org.apache.hive#hive-llap-client;2.3.9 in central\n",
      "\tfound org.apache.avro#avro;1.10.2 in central\n",
      "\tfound org.slf4j#slf4j-api;1.7.30 in central\n",
      "\tfound org.apache.avro#avro-mapred;1.10.2 in central\n",
      "\tfound org.apache.avro#avro-ipc;1.10.2 in central\n",
      "\tfound org.xerial.snappy#snappy-java;1.1.8.4 in central\n",
      "\tfound org.tukaani#xz;1.8 in central\n",
      "\tfound org.apache.httpcomponents#httpclient;4.5.13 in central\n",
      "\tfound org.apache.httpcomponents#httpcore;4.4.14 in central\n",
      "\tfound commons-logging#commons-logging;1.1.3 in local-m2-cache\n",
      "\tfound commons-codec#commons-codec;1.15 in central\n",
      "\tfound org.codehaus.jackson#jackson-mapper-asl;1.9.13 in central\n",
      "\tfound org.codehaus.jackson#jackson-core-asl;1.9.13 in central\n",
      "\tfound org.jodd#jodd-core;3.5.2 in central\n",
      "\tfound com.google.code.findbugs#jsr305;3.0.0 in central\n",
      "\tfound org.apache.hadoop#hadoop-client-runtime;3.3.1 in central\n",
      "\tfound org.apache.hadoop#hadoop-client-api;3.3.1 in central\n",
      "\tfound org.apache.htrace#htrace-core4;4.1.0-incubating in central\n",
      "\tfound org.apache.thrift#libthrift;0.12.0 in central\n",
      "\tfound org.apache.thrift#libfb303;0.9.3 in central\n",
      "\tfound org.spark-project.spark#unused;1.0.0 in central\n",
      ":: resolution report :: resolve 2570ms :: artifacts dl 62ms\n",
      "\t:: modules in use:\n",
      "\tcom.fasterxml.jackson.core#jackson-annotations;2.12.3 from central in [default]\n",
      "\tcom.fasterxml.jackson.core#jackson-core;2.12.3 from central in [default]\n",
      "\tcom.fasterxml.jackson.core#jackson-databind;2.12.3 from central in [default]\n",
      "\tcom.github.joshelser#dropwizard-metrics-hadoop-metrics2-reporter;0.1.2 from central in [default]\n",
      "\tcom.google.code.findbugs#jsr305;3.0.0 from central in [default]\n",
      "\tcom.google.code.gson#gson;2.2.4 from central in [default]\n",
      "\tcom.google.guava#guava;14.0.1 from central in [default]\n",
      "\tcom.google.protobuf#protobuf-java;3.6.1 from central in [default]\n",
      "\tcom.jolbox#bonecp;0.8.0.RELEASE from central in [default]\n",
      "\tcom.tdunning#json;1.8 from central in [default]\n",
      "\tcom.zaxxer#HikariCP;2.5.1 from central in [default]\n",
      "\tcommons-cli#commons-cli;1.2 from local-m2-cache in [default]\n",
      "\tcommons-codec#commons-codec;1.15 from central in [default]\n",
      "\tcommons-dbcp#commons-dbcp;1.4 from local-m2-cache in [default]\n",
      "\tcommons-io#commons-io;2.8.0 from central in [default]\n",
      "\tcommons-lang#commons-lang;2.6 from central in [default]\n",
      "\tcommons-logging#commons-logging;1.1.3 from local-m2-cache in [default]\n",
      "\tcommons-pool#commons-pool;1.5.4 from local-m2-cache in [default]\n",
      "\tio.dropwizard.metrics#metrics-core;4.2.0 from central in [default]\n",
      "\tio.dropwizard.metrics#metrics-json;4.2.0 from central in [default]\n",
      "\tio.dropwizard.metrics#metrics-jvm;4.2.0 from central in [default]\n",
      "\tjavax.jdo#jdo-api;3.0.1 from central in [default]\n",
      "\tjavax.transaction#jta;1.1 from central in [default]\n",
      "\tjavax.transaction#transaction-api;1.1 from central in [default]\n",
      "\tjavolution#javolution;5.5.1 from central in [default]\n",
      "\tjline#jline;2.14.6 from central in [default]\n",
      "\tjoda-time#joda-time;2.10.10 from central in [default]\n",
      "\tmysql#mysql-connector-java;8.0.13 from central in [default]\n",
      "\tnet.sf.opencsv#opencsv;2.3 from central in [default]\n",
      "\torg.antlr#ST4;4.0.4 from central in [default]\n",
      "\torg.antlr#antlr-runtime;3.5.2 from central in [default]\n",
      "\torg.apache.avro#avro;1.10.2 from central in [default]\n",
      "\torg.apache.avro#avro-ipc;1.10.2 from central in [default]\n",
      "\torg.apache.avro#avro-mapred;1.10.2 from central in [default]\n",
      "\torg.apache.commons#commons-compress;1.21 from central in [default]\n",
      "\torg.apache.commons#commons-lang3;3.12.0 from local-m2-cache in [default]\n",
      "\torg.apache.derby#derby;10.14.2.0 from central in [default]\n",
      "\torg.apache.hadoop#hadoop-client-api;3.3.1 from central in [default]\n",
      "\torg.apache.hadoop#hadoop-client-runtime;3.3.1 from central in [default]\n",
      "\torg.apache.hive#hive-common;2.3.9 from central in [default]\n",
      "\torg.apache.hive#hive-exec;2.3.9 from central in [default]\n",
      "\torg.apache.hive#hive-llap-client;2.3.9 from central in [default]\n",
      "\torg.apache.hive#hive-llap-common;2.3.9 from central in [default]\n",
      "\torg.apache.hive#hive-metastore;2.3.9 from central in [default]\n",
      "\torg.apache.hive#hive-serde;2.3.9 from central in [default]\n",
      "\torg.apache.hive#hive-shims;2.3.9 from central in [default]\n",
      "\torg.apache.hive#hive-vector-code-gen;2.3.9 from central in [default]\n",
      "\torg.apache.hive.shims#hive-shims-0.23;2.3.9 from central in [default]\n",
      "\torg.apache.hive.shims#hive-shims-common;2.3.9 from central in [default]\n",
      "\torg.apache.hive.shims#hive-shims-scheduler;2.3.9 from central in [default]\n",
      "\torg.apache.htrace#htrace-core4;4.1.0-incubating from central in [default]\n",
      "\torg.apache.httpcomponents#httpclient;4.5.13 from central in [default]\n",
      "\torg.apache.httpcomponents#httpcore;4.4.14 from central in [default]\n",
      "\torg.apache.ivy#ivy;2.5.0 from central in [default]\n",
      "\torg.apache.spark#spark-hive_2.12;3.2.1 from central in [default]\n",
      "\torg.apache.thrift#libfb303;0.9.3 from central in [default]\n",
      "\torg.apache.thrift#libthrift;0.12.0 from central in [default]\n",
      "\torg.apache.velocity#velocity;1.5 from central in [default]\n",
      "\torg.codehaus.jackson#jackson-core-asl;1.9.13 from central in [default]\n",
      "\torg.codehaus.jackson#jackson-mapper-asl;1.9.13 from central in [default]\n",
      "\torg.datanucleus#datanucleus-api-jdo;4.2.4 from central in [default]\n",
      "\torg.datanucleus#datanucleus-core;4.1.17 from central in [default]\n",
      "\torg.datanucleus#datanucleus-rdbms;4.1.19 from central in [default]\n",
      "\torg.datanucleus#javax.jdo;3.2.0-m3 from central in [default]\n",
      "\torg.jodd#jodd-core;3.5.2 from central in [default]\n",
      "\torg.slf4j#slf4j-api;1.7.30 from central in [default]\n",
      "\torg.spark-project.spark#unused;1.0.0 from central in [default]\n",
      "\torg.tukaani#xz;1.8 from central in [default]\n",
      "\torg.xerial.snappy#snappy-java;1.1.8.4 from central in [default]\n",
      "\toro#oro;2.0.8 from central in [default]\n",
      "\tstax#stax-api;1.0.1 from central in [default]\n",
      "\t:: evicted modules:\n",
      "\tcom.google.protobuf#protobuf-java;2.5.0 by [com.google.protobuf#protobuf-java;3.6.1] in [default]\n",
      "\t---------------------------------------------------------------------\n",
      "\t|                  |            modules            ||   artifacts   |\n",
      "\t|       conf       | number| search|dwnlded|evicted|| number|dwnlded|\n",
      "\t---------------------------------------------------------------------\n",
      "\t|      default     |   72  |   0   |   0   |   1   ||   71  |   0   |\n",
      "\t---------------------------------------------------------------------\n",
      ":: retrieving :: org.apache.spark#spark-submit-parent-f6721567-762c-4a41-9e70-8195fea012c9\n",
      "\tconfs: [default]\n",
      "\t0 artifacts copied, 71 already retrieved (0kB/21ms)\n",
      "24/04/04 01:56:23 WARN NativeCodeLoader: Unable to load native-hadoop library for your platform... using builtin-java classes where applicable\n",
      "Setting default log level to \"WARN\".\n",
      "To adjust logging level use sc.setLogLevel(newLevel). For SparkR, use setLogLevel(newLevel).\n"
     ]
    }
   ],
   "source": [
    "from pyspark.sql import SparkSession\n",
    "spark = SparkSession.builder\\\n",
    "                    .appName(\"test\") \\\n",
    "                    .master(\"local[2]\") \\\n",
    "                    .config(\"spark.jars.packages\", \"mysql:mysql-connector-java:8.0.13,org.apache.spark:spark-hive_2.12:3.2.1\") \\\n",
    "                    .config(\"spark.sql.warehouse.dir\", \"/opt/hive/data/warehouse\") \\\n",
    "                    .config(\"hive.metastore.uris\", \"thrift://localhost:9083\") \\\n",
    "                    .enableHiveSupport() \\\n",
    "                    .getOrCreate()"
   ]
  },
  {
   "cell_type": "code",
   "execution_count": 2,
   "metadata": {},
   "outputs": [],
   "source": [
    "df = spark.read \\\n",
    "    .format(\"jdbc\") \\\n",
    "    .option(\"driver\",\"com.mysql.cj.jdbc.Driver\") \\\n",
    "    .option(\"url\", \"jdbc:mysql://localhost:3306/test?useSSL=false\") \\\n",
    "    .option(\"dbtable\", \"employee\") \\\n",
    "    .option(\"user\", \"root\") \\\n",
    "    .option(\"password\", \"123456\") \\\n",
    "    .load()"
   ]
  },
  {
   "cell_type": "code",
   "execution_count": 6,
   "metadata": {},
   "outputs": [
    {
     "data": {
      "text/plain": [
       "DataFrame[]"
      ]
     },
     "execution_count": 6,
     "metadata": {},
     "output_type": "execute_result"
    }
   ],
   "source": [
    "spark.sql(\"CREATE DATABASE IF NOT EXISTS mimic\")"
   ]
  },
  {
   "cell_type": "code",
   "execution_count": 7,
   "metadata": {},
   "outputs": [
    {
     "name": "stderr",
     "output_type": "stream",
     "text": [
      "24/04/04 01:57:56 WARN SessionState: METASTORE_FILTER_HOOK will be ignored, since hive.security.authorization.manager is set to instance of HiveAuthorizerFactory.\n"
     ]
    }
   ],
   "source": [
    "df.write.mode(\"overwrite\").saveAsTable(\"mimic.employee\")"
   ]
  },
  {
   "cell_type": "code",
   "execution_count": null,
   "metadata": {},
   "outputs": [],
   "source": []
  }
 ],
 "metadata": {
  "kernelspec": {
   "display_name": "venv",
   "language": "python",
   "name": "python3"
  },
  "language_info": {
   "codemirror_mode": {
    "name": "ipython",
    "version": 3
   },
   "file_extension": ".py",
   "mimetype": "text/x-python",
   "name": "python",
   "nbconvert_exporter": "python",
   "pygments_lexer": "ipython3",
   "version": "3.9.16"
  }
 },
 "nbformat": 4,
 "nbformat_minor": 2
}
